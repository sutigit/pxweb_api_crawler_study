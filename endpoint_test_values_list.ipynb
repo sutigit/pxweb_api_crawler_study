{
 "cells": [
  {
   "cell_type": "markdown",
   "metadata": {},
   "source": [
    "# Testing all values from PxWeb: 142h.px endpoint\n",
    "\n",
    "## Introduction\n",
    "\n",
    "We make multiple post requests to the endpoint: https://pxdata.stat.fi:443/PxWeb/api/v1/fi/Kuntien_avainluvut/uusin/142h.px/ with all different key values from the values.json file to aggregate which endpoints work with this setup and which dont.\n",
    "\n",
    "Files produced here:\n",
    "- passed_keys.json\n",
    "- failed_keys.json"
   ]
  },
  {
   "cell_type": "markdown",
   "metadata": {},
   "source": [
    "### Initialize utility classes\n",
    "These utility classess are imported from their modules\n",
    "\n",
    "- Endpoint\n",
    "- PxWeb\n",
    "- PostBody\n",
    "- File"
   ]
  },
  {
   "cell_type": "code",
   "execution_count": 3,
   "metadata": {},
   "outputs": [],
   "source": [
    "# My utils\n",
    "from utils.Endpoint import Endpoint\n",
    "from utils.File import File\n",
    "from utils.PxWeb import PxWeb\n",
    "from utils.PostBody import PostBody\n",
    "    \n",
    "            \n",
    "# Initialize the classes\n",
    "values_file = File(name='data/values', type='json')\n",
    "pb_file = File(name='data/post_body', type='json')\n",
    "passed_keys_file = File(name='data/passed_keys', type='json')\n",
    "failed_keys_file = File(name='data/failed_keys', type='json')\n",
    "\n",
    "enp = Endpoint(url='https://pxdata.stat.fi:443/PxWeb/api/v1/fi/Kuntien_avainluvut/uusin/142h.px/')\n",
    "\n",
    "pxw = PxWeb(url=enp.get_current())\n",
    "\n",
    "pb = PostBody(base=pb_file.read())"
   ]
  },
  {
   "cell_type": "markdown",
   "metadata": {},
   "source": [
    "### Filter endpoints\n",
    "Filter endpoints that work with post_body.json setup to following files:\n",
    "\n",
    "- passed_keys.json\n",
    "- failed_keys.json"
   ]
  },
  {
   "cell_type": "code",
   "execution_count": null,
   "metadata": {},
   "outputs": [],
   "source": [
    "import time\n",
    "import json\n",
    "\n",
    "passed_keys = []\n",
    "failed_keys = []\n",
    "\n",
    "try:\n",
    "    \n",
    "    for key, value in json.loads(values_file.read()).items():\n",
    "        pb.set_value_key([key])\n",
    "        res = pxw.post(body=pb.get())\n",
    "        \n",
    "        item = {'key': key, 'title': value}\n",
    "\n",
    "        if res.status_code == 200:\n",
    "            passed_keys.append(item)\n",
    "        else:\n",
    "            failed_keys.append(item)\n",
    "\n",
    "        print(f'status: {res.status_code}, passed: {len(passed_keys)}, failed: {len(failed_keys)}')\n",
    "        \n",
    "        time.sleep(0.5)  # Sleep for 0.5 second between requests\n",
    "            \n",
    "except KeyboardInterrupt:    \n",
    "    passed_keys_file.write(json.dumps(passed_keys))\n",
    "    failed_keys_file.write(json.dumps(failed_keys))\n",
    "\n",
    "\n",
    "passed_keys_file.write(json.dumps(passed_keys))\n",
    "failed_keys_file.write(json.dumps(failed_keys))"
   ]
  }
 ],
 "metadata": {
  "kernelspec": {
   "display_name": "venv",
   "language": "python",
   "name": "python3"
  },
  "language_info": {
   "codemirror_mode": {
    "name": "ipython",
    "version": 3
   },
   "file_extension": ".py",
   "mimetype": "text/x-python",
   "name": "python",
   "nbconvert_exporter": "python",
   "pygments_lexer": "ipython3",
   "version": "3.10.12"
  }
 },
 "nbformat": 4,
 "nbformat_minor": 2
}
